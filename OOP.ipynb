{
 "cells": [
  {
   "cell_type": "code",
   "execution_count": 35,
   "id": "e664b1a6-8cad-4fa5-bb0a-95d0d7d92843",
   "metadata": {},
   "outputs": [
    {
     "name": "stdout",
     "output_type": "stream",
     "text": [
      "Hello Nikita maam\n",
      "Nitish\n"
     ]
    }
   ],
   "source": [
    "# class Customer:\n",
    "\n",
    "#     def __init__(self, name, gender):\n",
    "#         self.name = name\n",
    "#         self.gender = gender\n",
    "\n",
    "# def greet(customer):\n",
    "#     if customer.gender == \"Male\":\n",
    "#         print(\"Hello\",customer.name, \"Sir\")\n",
    "#     else:\n",
    "#         print(\"Hello\", customer.name, \"maam\")\n",
    "\n",
    "#     cust2 = Customer(\"Nitish\", \"Male\")\n",
    "#     return cust2\n",
    "\n",
    "# cust = Customer(\"Nikita\",\"Female\")\n",
    "\n",
    "# new_cust = greet(cust)\n",
    "print(new_cust.name)"
   ]
  },
  {
   "cell_type": "code",
   "execution_count": 45,
   "id": "4ed7064e-4aa1-4200-bd20-9df3508579cc",
   "metadata": {},
   "outputs": [
    {
     "name": "stdout",
     "output_type": "stream",
     "text": [
      "2242326346880\n",
      "2242326346880\n",
      "Nitish\n",
      "2242326346880\n"
     ]
    }
   ],
   "source": [
    "class Customer:\n",
    "\n",
    "#     def __init__(self, name):\n",
    "#         self.name = name\n",
    "\n",
    "# def greet(customer):\n",
    "#     print(id(customer))\n",
    "#     customer.name = \"Nitish\"\n",
    "#     print(customer.name)\n",
    "#     print(id(customer))\n",
    "#                                 #class ke objects are also mutable like lists, dict, and sets\n",
    "# cust = Customer(\"Nikita\")\n",
    "# print(id(cust))\n",
    "\n",
    "# greet(cust)"
   ]
  },
  {
   "cell_type": "markdown",
   "id": "bdb7ec1e-9ca0-496c-8ade-e19c33ff8562",
   "metadata": {},
   "source": [
    "### Collection of objects"
   ]
  },
  {
   "cell_type": "code",
   "execution_count": 5,
   "id": "0247e6d4-8ad2-4b3f-ad65-358660e3f3ae",
   "metadata": {},
   "outputs": [
    {
     "name": "stdout",
     "output_type": "stream",
     "text": [
      "I am Nitish and i am 34\n",
      "I am Ankit and i am 45\n",
      "I am Neha and i am 32\n"
     ]
    }
   ],
   "source": [
    "class Customer:\n",
    "    def __init__(self, name, age):\n",
    "        self.name = name\n",
    "        self.age = age\n",
    "    def intro(self):\n",
    "        print(\"I am\", self.name, \"and i am\", self.age)\n",
    "\n",
    "c1 = Customer(\"Nitish\", 34)\n",
    "c2 = Customer(\"Ankit\", 45)\n",
    "c3 = Customer(\"Neha\", 32)\n",
    "\n",
    "L = [c1, c2, c3]\n",
    "\n",
    "for i in L:\n",
    "    i.intro()"
   ]
  },
  {
   "cell_type": "markdown",
   "id": "789c7e94-e552-4c7e-91a4-589f4e84053a",
   "metadata": {},
   "source": [
    "# Realtionships\n",
    "### aggregation\n",
    "### relationship"
   ]
  },
  {
   "cell_type": "code",
   "execution_count": 24,
   "id": "1f4f9364-cd7c-40d3-95ee-61ae91faba41",
   "metadata": {},
   "outputs": [
    {
     "name": "stdout",
     "output_type": "stream",
     "text": [
      "Swat\n",
      "700156\n",
      "128812\n"
     ]
    }
   ],
   "source": [
    "class Customer:\n",
    "    def __init__(self, name, gender, address):\n",
    "        self.name = name\n",
    "        self.gender = gender\n",
    "        self.address = address\n",
    "\n",
    "    def edit_profile(self, new_name, new_city, new_pin, new_state):\n",
    "        self.name = new_name\n",
    "        self.address.change_address(new_city, new_pin, new_state) \n",
    "\n",
    "class Address:\n",
    "    def __init__(self, city, pincode, state):\n",
    "        self.city = city\n",
    "        self.pincode = pincode\n",
    "        self.state = state\n",
    "\n",
    "    def change_address(self, new_city, new_pin, new_state):\n",
    "        self.city = new_city\n",
    "        self.pin = new_pin\n",
    "        self.state = new_state\n",
    "\n",
    "add = Address(\"Swat\", 700156, \"KP\")\n",
    "cust = Customer(\"Dawood\", \"Male\", add)\n",
    "\n",
    "print(cust.address.city)\n",
    "print(cust.address.pincode)\n",
    "\n",
    "cust.edit_profile(\"Rehman\", \"Karachi\", 128812, \"Sindh\")\n",
    "print(cust.address.pin)"
   ]
  },
  {
   "cell_type": "markdown",
   "id": "a249a678-7c0a-4ce7-bba3-a14c46beb5f4",
   "metadata": {},
   "source": [
    "## Inheritance"
   ]
  },
  {
   "cell_type": "code",
   "execution_count": 29,
   "id": "341e82a2-f73f-4521-880b-f75a708dccfa",
   "metadata": {},
   "outputs": [
    {
     "name": "stdout",
     "output_type": "stream",
     "text": [
      "Enroll\n",
      "Review\n",
      "login\n",
      "Register\n"
     ]
    }
   ],
   "source": [
    "class User:\n",
    "    def login(self):\n",
    "        print(\"login\")\n",
    "        \n",
    "    def register(self):\n",
    "        print(\"Register\")\n",
    "        \n",
    "class Student(User):\n",
    "    def enroll(self):\n",
    "        print(\"Enroll\")\n",
    "\n",
    "    def review(self):\n",
    "        print(\"Review\")\n",
    "\n",
    "stu1 = Student()\n",
    "\n",
    "stu1.enroll()\n",
    "stu1.review()\n",
    "stu1.login()\n",
    "stu1.register()"
   ]
  },
  {
   "cell_type": "markdown",
   "id": "0c041825-2eb1-4fe5-ae39-da4cdffd3b56",
   "metadata": {},
   "source": [
    "#### Example - Inheriting Conmstructors"
   ]
  },
  {
   "cell_type": "code",
   "execution_count": 32,
   "id": "2ebafb1d-ef5f-448c-a547-8148cf449556",
   "metadata": {},
   "outputs": [
    {
     "name": "stdout",
     "output_type": "stream",
     "text": [
      "inside phone constructor\n",
      "Apple\n"
     ]
    }
   ],
   "source": [
    "class Phone:\n",
    "    def __init__(self, price, brand, camera):\n",
    "        print(\"inside phone constructor\")\n",
    "        self.price = price\n",
    "        self.brand = brand\n",
    "        self.camera = camera\n",
    "\n",
    "class SmartPhone(Phone):\n",
    "    pass\n",
    "\n",
    "s = SmartPhone(2000, \"Apple\", 13)\n",
    "print(s.brand)\n",
    "    "
   ]
  },
  {
   "cell_type": "markdown",
   "id": "8c35c29a-b6d0-459f-91ec-dd695762befd",
   "metadata": {},
   "source": [
    "#### Example - Inheriting Private Members"
   ]
  },
  {
   "cell_type": "code",
   "execution_count": 40,
   "id": "fd76e2f1-852d-49e5-ab7d-1b47ea75ce75",
   "metadata": {},
   "outputs": [
    {
     "name": "stdout",
     "output_type": "stream",
     "text": [
      "inside phone constructor\n"
     ]
    },
    {
     "ename": "AttributeError",
     "evalue": "'SmartPhone' object has no attribute '__brand'",
     "output_type": "error",
     "traceback": [
      "\u001b[1;31m---------------------------------------------------------------------------\u001b[0m",
      "\u001b[1;31mAttributeError\u001b[0m                            Traceback (most recent call last)",
      "Cell \u001b[1;32mIn[40], line 12\u001b[0m\n\u001b[0;32m      9\u001b[0m     \u001b[38;5;28;01mpass\u001b[39;00m\n\u001b[0;32m     11\u001b[0m s \u001b[38;5;241m=\u001b[39m SmartPhone(\u001b[38;5;241m20000\u001b[39m, \u001b[38;5;124m\"\u001b[39m\u001b[38;5;124mApple\u001b[39m\u001b[38;5;124m\"\u001b[39m, \u001b[38;5;241m13\u001b[39m)\n\u001b[1;32m---> 12\u001b[0m \u001b[38;5;28mprint\u001b[39m(\u001b[43ms\u001b[49m\u001b[38;5;241;43m.\u001b[39;49m\u001b[43m__brand\u001b[49m)\n",
      "\u001b[1;31mAttributeError\u001b[0m: 'SmartPhone' object has no attribute '__brand'"
     ]
    }
   ],
   "source": [
    "class Phone:\n",
    "    def __init__ (self, price, brand, camera):\n",
    "        print(\"inside phone constructor\")\n",
    "        self.price = price\n",
    "        self.__brand = brand\n",
    "        self.camera = camera\n",
    "\n",
    "class SmartPhone(Phone):\n",
    "    pass\n",
    "\n",
    "s = SmartPhone(20000, \"Apple\", 13)\n",
    "print(s.__brand)\n",
    "  "
   ]
  },
  {
   "cell_type": "markdown",
   "id": "8c741b4a-7b23-4f88-9953-54caa8d00008",
   "metadata": {},
   "source": [
    "#### Example - Polymorphism"
   ]
  },
  {
   "cell_type": "markdown",
   "id": "9fb21f9b-1998-42e2-b476-2d41b6c09bad",
   "metadata": {},
   "source": [
    "### Polymorphism:\n",
    "                1 - Method Overriding\n",
    "                2 - Method Overloading\n",
    "                3 - Operator Overloading"
   ]
  },
  {
   "cell_type": "code",
   "execution_count": 49,
   "id": "2fb0adc0-d94f-40bc-9ef0-2a906ee6aa68",
   "metadata": {},
   "outputs": [
    {
     "name": "stdout",
     "output_type": "stream",
     "text": [
      "inside phone constructor\n",
      "Buying a smartphone\n"
     ]
    }
   ],
   "source": [
    "class Phone:\n",
    "    def __init__(self, price, brand, camera):\n",
    "        print(\"inside phone constructor\")\n",
    "        self.__price = price\n",
    "        self.brand = brand\n",
    "        self.camera = camera\n",
    "\n",
    "    def buy(self):\n",
    "        print(\"Buying a phone\")\n",
    "\n",
    "class SmartPhone(Phone):\n",
    "\n",
    "    def buy(self):\n",
    "        print(\"Buying a smartphone\")\n",
    "\n",
    "s = SmartPhone(2000, \"Apple\", 13)\n",
    "s.buy()\n",
    "\n",
    "#This technique is also called method overriding - Polymorphism"
   ]
  },
  {
   "cell_type": "markdown",
   "id": "4671ae5b-40bf-4eef-ab1f-882d7c2d5e26",
   "metadata": {},
   "source": [
    "#### Example"
   ]
  },
  {
   "cell_type": "code",
   "execution_count": 53,
   "id": "037f6afd-25fd-4e3a-b3c9-e332ecc17817",
   "metadata": {},
   "outputs": [
    {
     "ename": "AttributeError",
     "evalue": "'Child' object has no attribute 'get_num'",
     "output_type": "error",
     "traceback": [
      "\u001b[1;31m---------------------------------------------------------------------------\u001b[0m",
      "\u001b[1;31mAttributeError\u001b[0m                            Traceback (most recent call last)",
      "Cell \u001b[1;32mIn[53], line 17\u001b[0m\n\u001b[0;32m     14\u001b[0m         \u001b[38;5;28;01mreturn\u001b[39;00m \u001b[38;5;28mself\u001b[39m\u001b[38;5;241m.\u001b[39m__value\n\u001b[0;32m     16\u001b[0m son \u001b[38;5;241m=\u001b[39m Child(\u001b[38;5;241m100\u001b[39m, \u001b[38;5;241m10\u001b[39m)\n\u001b[1;32m---> 17\u001b[0m \u001b[38;5;28mprint\u001b[39m(\u001b[38;5;124m\"\u001b[39m\u001b[38;5;124mParent: Num:\u001b[39m\u001b[38;5;124m\"\u001b[39m, \u001b[43mson\u001b[49m\u001b[38;5;241;43m.\u001b[39;49m\u001b[43mget_num\u001b[49m())\n",
      "\u001b[1;31mAttributeError\u001b[0m: 'Child' object has no attribute 'get_num'"
     ]
    }
   ],
   "source": [
    "class Parent:\n",
    "    def __init__(self, num):\n",
    "        self.__num = num\n",
    "\n",
    "    def gert_num(self):\n",
    "        return self.num\n",
    "\n",
    "class Child(Parent):\n",
    "\n",
    "    def __init__(self, val, num):\n",
    "        self.__val = val\n",
    "\n",
    "    def get_val(self):\n",
    "        return self.__value\n",
    "\n",
    "son = Child(100, 10)\n",
    "print(\"Parent: Num:\", son.get_num())"
   ]
  },
  {
   "cell_type": "markdown",
   "id": "77aa1723-9991-4f99-9ec1-4a17c8c4ed61",
   "metadata": {},
   "source": [
    "### Example - Super Keyword"
   ]
  },
  {
   "cell_type": "code",
   "execution_count": 64,
   "id": "94069a6e-7d27-4a7a-8bff-abff664ae488",
   "metadata": {},
   "outputs": [
    {
     "name": "stdout",
     "output_type": "stream",
     "text": [
      "inside phone constructor\n",
      "Buying a smartphone\n",
      "Buying a phone\n"
     ]
    }
   ],
   "source": [
    "class Phone:\n",
    "    def __init__(self, price, brand, camera):\n",
    "        print(\"inside phone constructor\")\n",
    "        self.__price = price\n",
    "        self.brand = brand\n",
    "        self.camera = camera\n",
    "\n",
    "    def buy(self):\n",
    "        print(\"Buying a phone\")\n",
    "\n",
    "class SmartPhone(Phone):\n",
    "    def buy(self):\n",
    "        print(\"Buying a smartphone\")\n",
    "        super().buy()\n",
    "\n",
    "s = SmartPhone(20000, \"Apple\", 13)\n",
    "s.buy()\n",
    "    "
   ]
  },
  {
   "cell_type": "markdown",
   "id": "15a49572-89ae-42b7-9cf1-5d2f59dda808",
   "metadata": {},
   "source": [
    "### Anotherb Example of Super Keyword"
   ]
  },
  {
   "cell_type": "code",
   "execution_count": 69,
   "id": "d7e510e1-00b3-4d24-b27f-f8079c6b6118",
   "metadata": {},
   "outputs": [
    {
     "name": "stdout",
     "output_type": "stream",
     "text": [
      "Pehle yahan\n",
      "inside phone constructor\n",
      "inside smartphone constructor\n",
      "Android\n",
      "Samsung\n"
     ]
    }
   ],
   "source": [
    "class Phone:\n",
    "    def __init__(self, price, brand, camera):\n",
    "        print(\"inside phone constructor\")\n",
    "        self.__price = price\n",
    "        self.brand = brand\n",
    "        self.camera = camera\n",
    "\n",
    "class SmartPhone(Phone):\n",
    "    def __init__(self, price, brand, camera, os, ram):\n",
    "        print(\"Pehle yahan\")\n",
    "        super().__init__(price, brand, camera)\n",
    "        self.os = os\n",
    "        self.ram = ram\n",
    "        print(\"inside smartphone constructor\")\n",
    "\n",
    "s = SmartPhone(20000, \"Samsung\", 12, \"Android\", 2)\n",
    "print(s.os)\n",
    "print(s.brand)"
   ]
  },
  {
   "cell_type": "markdown",
   "id": "1cc88a98-f521-41ca-a6f6-2f705f7ce003",
   "metadata": {},
   "source": [
    "#### Example"
   ]
  },
  {
   "cell_type": "code",
   "execution_count": null,
   "id": "701c4325-ddac-4709-b732-8c792881e427",
   "metadata": {},
   "outputs": [],
   "source": [
    "class Parent:\n",
    "    def _init__(self):\n",
    "        self.num = 100\n",
    "\n",
    "class Child(Parent):\n",
    "\n",
    "    def __init__(self):\n",
    "        super().__init__()\n",
    "        self.var = 200\n",
    "\n",
    "    def show(self):\n",
    "        print(self.num)\n",
    "        print(self.var)\n",
    "\n",
    "son = Child()\n",
    "son.show()"
   ]
  },
  {
   "cell_type": "markdown",
   "id": "4a5542b1-d5de-451f-ac48-a9a7d8970a8b",
   "metadata": {},
   "source": [
    "#### Example"
   ]
  },
  {
   "cell_type": "code",
   "execution_count": 81,
   "id": "e7d906eb-a062-4ea0-80cd-4cbc5ed7f9dd",
   "metadata": {},
   "outputs": [
    {
     "name": "stdout",
     "output_type": "stream",
     "text": [
      "Parent: 100\n",
      "Child: 10\n"
     ]
    }
   ],
   "source": [
    "class Parent:\n",
    "    def __init__(self):\n",
    "        self.__num = 100\n",
    "\n",
    "    def show(self):\n",
    "        print(\"Parent:\", self.__num)\n",
    "\n",
    "class Child(Parent):\n",
    "    def __init__(self):\n",
    "        super().__init__()\n",
    "        self.__var = 10\n",
    "\n",
    "    def show(self):\n",
    "        print(\"Child:\",self.__var)\n",
    "\n",
    "dad = Parent()\n",
    "dad.show()\n",
    "son = Child()\n",
    "son.show()\n",
    "        "
   ]
  },
  {
   "cell_type": "markdown",
   "id": "1d79d6b7-4d71-410f-a1e1-11b14e58f062",
   "metadata": {},
   "source": [
    "### Types of Inheritence:\n",
    "1 - Single Level Inheritence,\n",
    "2 - Multi Level,\n",
    "3 - Hierarchical, \n",
    "4 - Multiple,\n",
    "5 - Hybrid,"
   ]
  },
  {
   "cell_type": "code",
   "execution_count": 87,
   "id": "68e41609-9d2f-483f-bab3-7559cb8f4cae",
   "metadata": {},
   "outputs": [
    {
     "ename": "TypeError",
     "evalue": "SmartPhone.__init__() missing 2 required positional arguments: 'os' and 'ram'",
     "output_type": "error",
     "traceback": [
      "\u001b[1;31m---------------------------------------------------------------------------\u001b[0m",
      "\u001b[1;31mTypeError\u001b[0m                                 Traceback (most recent call last)",
      "Cell \u001b[1;32mIn[87], line 16\u001b[0m\n\u001b[0;32m     13\u001b[0m \u001b[38;5;28;01mclass\u001b[39;00m \u001b[38;5;21;01mSmartphone\u001b[39;00m(Phone):\n\u001b[0;32m     14\u001b[0m     \u001b[38;5;28;01mpass\u001b[39;00m\n\u001b[1;32m---> 16\u001b[0m \u001b[43mSmartPhone\u001b[49m\u001b[43m(\u001b[49m\u001b[38;5;241;43m1000\u001b[39;49m\u001b[43m,\u001b[49m\u001b[43m \u001b[49m\u001b[38;5;124;43m\"\u001b[39;49m\u001b[38;5;124;43mApple\u001b[39;49m\u001b[38;5;124;43m\"\u001b[39;49m\u001b[43m,\u001b[49m\u001b[43m \u001b[49m\u001b[38;5;124;43m\"\u001b[39;49m\u001b[38;5;124;43m13px\u001b[39;49m\u001b[38;5;124;43m\"\u001b[39;49m\u001b[43m)\u001b[49m\u001b[38;5;241m.\u001b[39mbuy()\n",
      "\u001b[1;31mTypeError\u001b[0m: SmartPhone.__init__() missing 2 required positional arguments: 'os' and 'ram'"
     ]
    }
   ],
   "source": [
    "### Example of a Single Level Inheritence\n",
    "\n",
    "class Phone:\n",
    "    def __init__(self, price, brand, camera):\n",
    "        print(\"Inside phone constructor\")\n",
    "        self.__price = price\n",
    "        self.brand = brand\n",
    "        self.camera = camera\n",
    "    def buy(self):\n",
    "        print(\"Buying a phone\")\n",
    "    def return_phone(self):\n",
    "        print(\"REturning a phone\")\n",
    "class Smartphone(Phone):\n",
    "    pass\n",
    "\n",
    "SmartPhone(1000, \"Apple\", \"13px\").buy()\n"
   ]
  },
  {
   "cell_type": "code",
   "execution_count": 91,
   "id": "8f723bbe-4c83-4ea4-bb56-93cb2feb7c0d",
   "metadata": {},
   "outputs": [
    {
     "name": "stdout",
     "output_type": "stream",
     "text": [
      "inside phone constructor\n",
      "inside phone constructor\n",
      "Buying a phone\n",
      "Product Customer Review\n",
      "Product Customer Review\n"
     ]
    }
   ],
   "source": [
    "### Example of Multi-level inheritence\n",
    "\n",
    "class Product:\n",
    "    def review(self):\n",
    "        print(\"Product Customer Review\")\n",
    "class Phone(Product):\n",
    "    def __init__(self, price, brand, camera):\n",
    "        print(\"inside phone constructor\")\n",
    "        self.__price = price\n",
    "        self.brand = brand\n",
    "        self.camera = camera\n",
    "    def buy(self):\n",
    "        print(\"Buying a phone\")\n",
    "\n",
    "class SmartPhone(Phone):\n",
    "    pass\n",
    "\n",
    "s = SmartPhone(20000, \"Apple\", 12)\n",
    "p = Phone(1000, \"Samsung\", 1)\n",
    "\n",
    "s.buy()\n",
    "s.review()\n",
    "p.review()"
   ]
  },
  {
   "cell_type": "code",
   "execution_count": 95,
   "id": "62417124-5e56-4d6a-ad73-fea8fd667f8b",
   "metadata": {},
   "outputs": [
    {
     "name": "stdout",
     "output_type": "stream",
     "text": [
      "inside phone constructor\n",
      "Priduct buy method\n"
     ]
    }
   ],
   "source": [
    "#Example of MRO(Method resolution order) - Multiple Inheritence Example\n",
    "class Phone:\n",
    "    def __init__(self, price, brand, camera):\n",
    "        print(\"inside phone constructor\")\n",
    "        self.__price = price\n",
    "        self.brand = brand\n",
    "        self.cammera = camera\n",
    "    def buy(self):\n",
    "        print(\"buying a phone\")\n",
    "\n",
    "class Product:\n",
    "\n",
    "    def buy(self):\n",
    "        print(\"Product buy method\")\n",
    "\n",
    "class SmartPhone(Product, Phone):\n",
    "    pass\n",
    "\n",
    "s = SmartPhone(20000, \"Apple\", 12)\n",
    "s.buy()\n",
    "    "
   ]
  },
  {
   "cell_type": "code",
   "execution_count": 99,
   "id": "b0f8055b-6d7a-44f9-87ba-52e91dd7042b",
   "metadata": {},
   "outputs": [
    {
     "name": "stdout",
     "output_type": "stream",
     "text": [
      "70\n"
     ]
    }
   ],
   "source": [
    "# Multilevel Inheritence Example\n",
    "class A:\n",
    "    def m1(self):\n",
    "        return 20\n",
    "class B(A):\n",
    "\n",
    "    def m1(self):\n",
    "        return 30\n",
    "\n",
    "    def m2(self):\n",
    "        return 40\n",
    "\n",
    "class C(B):\n",
    "    def m2(self):\n",
    "        return 20\n",
    "\n",
    "obj1 = A()\n",
    "obj2 = B()\n",
    "obj3 = C()\n",
    "print(obj1.m1() + obj3.m1() + obj3.m2())"
   ]
  },
  {
   "cell_type": "code",
   "execution_count": 107,
   "id": "a211141d-708a-467b-8b0a-afc4665097a2",
   "metadata": {
    "scrolled": true
   },
   "outputs": [
    {
     "ename": "RecursionError",
     "evalue": "maximum recursion depth exceeded",
     "output_type": "error",
     "traceback": [
      "\u001b[1;31m---------------------------------------------------------------------------\u001b[0m",
      "\u001b[1;31mRecursionError\u001b[0m                            Traceback (most recent call last)",
      "Cell \u001b[1;32mIn[107], line 19\u001b[0m\n\u001b[0;32m     16\u001b[0m         \u001b[38;5;28;01mreturn\u001b[39;00m val\n\u001b[0;32m     18\u001b[0m obj \u001b[38;5;241m=\u001b[39m C()\n\u001b[1;32m---> 19\u001b[0m \u001b[38;5;28mprint\u001b[39m(\u001b[43mobj\u001b[49m\u001b[38;5;241;43m.\u001b[39;49m\u001b[43mm1\u001b[49m\u001b[43m(\u001b[49m\u001b[43m)\u001b[49m)\n",
      "Cell \u001b[1;32mIn[107], line 15\u001b[0m, in \u001b[0;36mC.m1\u001b[1;34m(self)\u001b[0m\n\u001b[0;32m     14\u001b[0m \u001b[38;5;28;01mdef\u001b[39;00m \u001b[38;5;21mm1\u001b[39m(\u001b[38;5;28mself\u001b[39m):\n\u001b[1;32m---> 15\u001b[0m     val \u001b[38;5;241m=\u001b[39m \u001b[38;5;28;43mself\u001b[39;49m\u001b[38;5;241;43m.\u001b[39;49m\u001b[43mm1\u001b[49m\u001b[43m(\u001b[49m\u001b[43m)\u001b[49m \u001b[38;5;241m+\u001b[39m \u001b[38;5;241m20\u001b[39m\n\u001b[0;32m     16\u001b[0m     \u001b[38;5;28;01mreturn\u001b[39;00m val\n",
      "Cell \u001b[1;32mIn[107], line 15\u001b[0m, in \u001b[0;36mC.m1\u001b[1;34m(self)\u001b[0m\n\u001b[0;32m     14\u001b[0m \u001b[38;5;28;01mdef\u001b[39;00m \u001b[38;5;21mm1\u001b[39m(\u001b[38;5;28mself\u001b[39m):\n\u001b[1;32m---> 15\u001b[0m     val \u001b[38;5;241m=\u001b[39m \u001b[38;5;28;43mself\u001b[39;49m\u001b[38;5;241;43m.\u001b[39;49m\u001b[43mm1\u001b[49m\u001b[43m(\u001b[49m\u001b[43m)\u001b[49m \u001b[38;5;241m+\u001b[39m \u001b[38;5;241m20\u001b[39m\n\u001b[0;32m     16\u001b[0m     \u001b[38;5;28;01mreturn\u001b[39;00m val\n",
      "    \u001b[1;31m[... skipping similar frames: C.m1 at line 15 (2974 times)]\u001b[0m\n",
      "Cell \u001b[1;32mIn[107], line 15\u001b[0m, in \u001b[0;36mC.m1\u001b[1;34m(self)\u001b[0m\n\u001b[0;32m     14\u001b[0m \u001b[38;5;28;01mdef\u001b[39;00m \u001b[38;5;21mm1\u001b[39m(\u001b[38;5;28mself\u001b[39m):\n\u001b[1;32m---> 15\u001b[0m     val \u001b[38;5;241m=\u001b[39m \u001b[38;5;28;43mself\u001b[39;49m\u001b[38;5;241;43m.\u001b[39;49m\u001b[43mm1\u001b[49m\u001b[43m(\u001b[49m\u001b[43m)\u001b[49m \u001b[38;5;241m+\u001b[39m \u001b[38;5;241m20\u001b[39m\n\u001b[0;32m     16\u001b[0m     \u001b[38;5;28;01mreturn\u001b[39;00m val\n",
      "\u001b[1;31mRecursionError\u001b[0m: maximum recursion depth exceeded"
     ]
    }
   ],
   "source": [
    "#Example\n",
    "class A:\n",
    "    def m1(self):\n",
    "        return 20\n",
    "\n",
    "class B(A):\n",
    "\n",
    "    def m1 (self):\n",
    "        val = super().m1() + 30\n",
    "        return val\n",
    "\n",
    "class C(B):\n",
    "\n",
    "    def m1(self):\n",
    "        val = self.m1() + 20\n",
    "        return val\n",
    "\n",
    "obj = C()\n",
    "print(obj.m1())"
   ]
  },
  {
   "cell_type": "code",
   "execution_count": null,
   "id": "e709ac7b-d124-4e66-bfb2-f8fdb079da80",
   "metadata": {},
   "outputs": [],
   "source": [
    "  "
   ]
  },
  {
   "cell_type": "code",
   "execution_count": null,
   "id": "3022f0a3-5b29-4afc-8552-09adc2869535",
   "metadata": {},
   "outputs": [],
   "source": []
  },
  {
   "cell_type": "code",
   "execution_count": null,
   "id": "e3996e20-b2bb-47b6-9670-6e65067c457e",
   "metadata": {},
   "outputs": [],
   "source": []
  },
  {
   "cell_type": "code",
   "execution_count": null,
   "id": "310f9756-8240-4d92-ae11-46606929bc4d",
   "metadata": {},
   "outputs": [],
   "source": []
  },
  {
   "cell_type": "code",
   "execution_count": null,
   "id": "d5173695-00e3-4c76-85eb-03887079c47b",
   "metadata": {},
   "outputs": [],
   "source": []
  },
  {
   "cell_type": "code",
   "execution_count": null,
   "id": "8e36c053-b4a7-4e0a-a77c-64f3e0f0902e",
   "metadata": {},
   "outputs": [],
   "source": []
  },
  {
   "cell_type": "code",
   "execution_count": null,
   "id": "3b0ece96-0e61-4bec-8b3f-65d712dbfd49",
   "metadata": {},
   "outputs": [],
   "source": []
  },
  {
   "cell_type": "code",
   "execution_count": null,
   "id": "8ca5a24e-8ecf-485d-ab6a-fa7614ef718e",
   "metadata": {},
   "outputs": [],
   "source": []
  },
  {
   "cell_type": "code",
   "execution_count": null,
   "id": "1151e978-3201-45c0-877d-1f2d8ad846f0",
   "metadata": {},
   "outputs": [],
   "source": []
  }
 ],
 "metadata": {
  "kernelspec": {
   "display_name": "Python 3 (ipykernel)",
   "language": "python",
   "name": "python3"
  },
  "language_info": {
   "codemirror_mode": {
    "name": "ipython",
    "version": 3
   },
   "file_extension": ".py",
   "mimetype": "text/x-python",
   "name": "python",
   "nbconvert_exporter": "python",
   "pygments_lexer": "ipython3",
   "version": "3.12.3"
  }
 },
 "nbformat": 4,
 "nbformat_minor": 5
}
