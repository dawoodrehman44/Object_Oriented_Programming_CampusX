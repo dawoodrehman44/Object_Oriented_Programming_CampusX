{
 "cells": [
  {
   "cell_type": "markdown",
   "metadata": {},
   "source": [
    "### MAKING A SOFTWARE FOR ATM MACHINE"
   ]
  },
  {
   "cell_type": "code",
   "execution_count": 6,
   "metadata": {},
   "outputs": [],
   "source": [
    "class Atm:\n",
    "    def __init__(self):\n",
    "\n",
    "        self.pin = \"\"\n",
    "        self.balance = 0\n",
    "\n",
    "        self.menu()\n",
    "\n",
    "    def menu(self):\n",
    "      user_input = input(\"\"\"\n",
    "                        Hello, How would like to proceed?\n",
    "                        1. Enter 1 to create pin\n",
    "                        2. Enter to deposit\n",
    "                        3. Enter 3 to withdraw\n",
    "                        4. Enter 4 to check balance\n",
    "                        5. Enter 5 to exit \n",
    "\"\"\")\n",
    "      if user_input == \"1\":\n",
    "        self.create_pin()\n",
    "      elif user_input == \"2\":\n",
    "        self.deposit()\n",
    "      elif user_input == \"2\":\n",
    "        self.withdraw()\n",
    "      elif user_input == \"4\":\n",
    "        print(\"Your balance is\")\n",
    "      else:\n",
    "        print(\"bye\")\n",
    "\n",
    "def create_pin(self):\n",
    "   self.pin = input(\"Enter your pin\")\n",
    "   print(\"Pin set sucessfully\")\n",
    "\n",
    "def deposit(self):\n",
    "   temp = input(\"Enter your pin\")\n",
    "   if temp == self.pin:\n",
    "      amount = int(input(\"Enter the amount\"))\n",
    "      self.balance = self.balance + amount\n",
    "      print(\"Deposit Successful\")\n",
    "\n",
    "def withdraw(self):\n",
    "   temp = input(\"Enter your pin\")\n",
    "   if temp == self.pin:\n",
    "      amount = int(input(\"Enter the amount\"))\n",
    "      if amount < self.balance:\n",
    "         self.balance = self.balance - amount\n",
    "         print(\"Operation successful\")\n",
    "      else:\n",
    "         print(\"insufficient funcds\")\n",
    "   else:\n",
    "      print(\"invalid pin\")"
   ]
  },
  {
   "cell_type": "code",
   "execution_count": 7,
   "metadata": {},
   "outputs": [
    {
     "name": "stdout",
     "output_type": "stream",
     "text": [
      "<class '__main__.Atm'>\n"
     ]
    }
   ],
   "source": [
    "print(Atm)"
   ]
  },
  {
   "cell_type": "code",
   "execution_count": 9,
   "metadata": {},
   "outputs": [],
   "source": [
    "sbi = Atm"
   ]
  }
 ],
 "metadata": {
  "kernelspec": {
   "display_name": "Python 3",
   "language": "python",
   "name": "python3"
  },
  "language_info": {
   "codemirror_mode": {
    "name": "ipython",
    "version": 3
   },
   "file_extension": ".py",
   "mimetype": "text/x-python",
   "name": "python",
   "nbconvert_exporter": "python",
   "pygments_lexer": "ipython3",
   "version": "3.11.4"
  }
 },
 "nbformat": 4,
 "nbformat_minor": 2
}
